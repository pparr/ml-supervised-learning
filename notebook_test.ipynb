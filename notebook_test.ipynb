{
 "cells": [
  {
   "cell_type": "markdown",
   "metadata": {},
   "source": [
    "# Testing Notebook for ML"
   ]
  },
  {
   "cell_type": "code",
   "execution_count": null,
   "metadata": {},
   "outputs": [],
   "source": [
    "import pandas as pd\n",
    "import seaborn as sns\n",
    "import matplotlib.pyplot as plt\n",
    "from sklearn.tree import DecisionTreeClassifier\n",
    "from sklearn import svm\n",
    "from sklearn import tree\n",
    "from sklearn.neural_network import MLPClassifier\n",
    "from sklearn.metrics import confusion_matrix, classification_report\n",
    "from sklearn.preprocessing import StandardScaler, OneHotEncoder, LabelBinarizer\n",
    "from sklearn.model_selection import train_test_split\n",
    "from sklearn.metrics import accuracy_score\n",
    "from sklearn.neighbors import KNeighborsClassifier\n",
    "%matplotlib inline"
   ]
  },
  {
   "cell_type": "code",
   "execution_count": null,
   "metadata": {},
   "outputs": [],
   "source": [
    "data = pd.read_csv('./data/abalone.csv',sep=',')\n",
    "data.head() # print first 5 rows"
   ]
  },
  {
   "cell_type": "code",
   "execution_count": null,
   "metadata": {},
   "outputs": [],
   "source": [
    "data.info() # info about the data"
   ]
  },
  {
   "cell_type": "code",
   "execution_count": null,
   "metadata": {},
   "outputs": [],
   "source": [
    "data.isnull().sum()"
   ]
  },
  {
   "cell_type": "code",
   "execution_count": null,
   "metadata": {},
   "outputs": [],
   "source": [
    "# For this data, predict number of rings\n",
    "\n",
    "# data['Sex'].value_counts()\n",
    "\n",
    "# string to float so can handle later\n",
    "\n",
    "\n",
    "# bool for each gender\n",
    "\n",
    "for label in \"MFI\":\n",
    "    data[label] = data['Sex'] == label\n",
    "del data['Sex']\n",
    "\n",
    "#data['Rings'].value_counts(sort=True)\n",
    "data.head()"
   ]
  },
  {
   "cell_type": "code",
   "execution_count": null,
   "metadata": {},
   "outputs": [],
   "source": [
    "#sns.countplot(data['Sex']) # plot number of things with each value\n",
    "# separate data into response and feature\n",
    "\n",
    "X = data.drop('Rings', axis=1)\n",
    "\n",
    "y = data['Rings']\n",
    "\n",
    "# train and test split data\n",
    "#x_train, x_test, y_train, y_test = train_test_split(X, y, test_size=.3, random_state=42)\n",
    "\n",
    "x_train, x_test, y_train, y_test = train_test_split(X, y) # 75/25 default\n",
    "#scaling and optimization...models might not need it\n",
    "\n",
    "sc = StandardScaler()\n",
    "x_train = sc.fit_transform(x_train) # fit and transform train\n",
    "x_test = sc.transform(x_test) # just transform the test\n"
   ]
  },
  {
   "cell_type": "markdown",
   "metadata": {},
   "source": [
    "# Decision Tree Classifier"
   ]
  },
  {
   "cell_type": "code",
   "execution_count": null,
   "metadata": {},
   "outputs": [],
   "source": [
    "dtclf = DecisionTreeClassifier()\n",
    "\n",
    "# train model\n",
    "\n",
    "dtclf.fit(x_train, y_train)\n",
    "\n",
    "# test\n",
    "predict_dtclf = dtclf.predict(x_test)\n",
    "\n",
    "# how did we do? Comparing y_test and predicted values\n",
    "print(classification_report(y_test, predict_dtclf,zero_division=1))\n",
    "\n",
    "cm = accuracy_score(y_test, predict_dtclf)\n",
    "# last var will print in jupyter\n",
    "cm\n",
    "\n",
    "\n"
   ]
  },
  {
   "cell_type": "code",
   "execution_count": null,
   "metadata": {},
   "outputs": [],
   "source": [
    "# how many wrong\n",
    "print(confusion_matrix(y_test, predict_dtclf))"
   ]
  },
  {
   "cell_type": "markdown",
   "metadata": {},
   "source": [
    "# KNN"
   ]
  },
  {
   "cell_type": "code",
   "execution_count": null,
   "metadata": {},
   "outputs": [],
   "source": [
    "neigh = KNeighborsClassifier(n_neighbors=7)\n",
    "neigh.fit(x_train, y_train)\n",
    "predict_knn = neigh.predict(x_test)"
   ]
  },
  {
   "cell_type": "code",
   "execution_count": null,
   "metadata": {},
   "outputs": [],
   "source": [
    "# how did we do? Comparing y_test and predicted values\n",
    "print(classification_report(y_test, predict_knn,zero_division=1))\n",
    "\n",
    "cm = accuracy_score(y_test, predict_knn)\n",
    "# last var will print in jupyter\n",
    "cm"
   ]
  },
  {
   "cell_type": "markdown",
   "metadata": {},
   "source": [
    "# SVM"
   ]
  },
  {
   "cell_type": "code",
   "execution_count": null,
   "metadata": {},
   "outputs": [],
   "source": [
    "clf_svm = svm.SVC()\n",
    "clf_svm.fit(x_train, y_train)\n",
    "predict_svm = clf_svm.predict(x_test)\n",
    "\n",
    "# how did we do? Comparing y_test and predicted values\n",
    "print(classification_report(y_test, predict_svm,zero_division=1))\n",
    "\n",
    "cm = accuracy_score(y_test, predict_svm)\n",
    "# last var will print in jupyter\n",
    "cm"
   ]
  },
  {
   "cell_type": "markdown",
   "metadata": {},
   "source": [
    "# Neural Network"
   ]
  },
  {
   "cell_type": "code",
   "execution_count": null,
   "metadata": {},
   "outputs": [],
   "source": [
    "mlpc = MLPClassifier(hidden_layer_sizes=(11,11,11), max_iter=500)\n",
    "mlpc.fit(x_train, y_train)\n",
    "predict_mlpc = mlpc.predict(x_test)\n"
   ]
  },
  {
   "cell_type": "code",
   "execution_count": null,
   "metadata": {},
   "outputs": [],
   "source": [
    "# how did we do? Comparing y_test and predicted values\n",
    "print(classification_report(y_test, predict_mlpc,zero_division=1))\n",
    "\n",
    "cm = accuracy_score(y_test, predict_mlpc)\n",
    "# last var will print in jupyter\n",
    "cm"
   ]
  },
  {
   "cell_type": "code",
   "execution_count": null,
   "metadata": {},
   "outputs": [],
   "source": []
  }
 ],
 "metadata": {
  "kernelspec": {
   "display_name": "Python 3",
   "language": "python",
   "name": "python3"
  },
  "language_info": {
   "codemirror_mode": {
    "name": "ipython",
    "version": 3
   },
   "file_extension": ".py",
   "mimetype": "text/x-python",
   "name": "python",
   "nbconvert_exporter": "python",
   "pygments_lexer": "ipython3",
   "version": "3.7.6"
  }
 },
 "nbformat": 4,
 "nbformat_minor": 4
}
