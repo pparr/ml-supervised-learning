{
 "cells": [
  {
   "cell_type": "code",
   "execution_count": 7,
   "metadata": {},
   "outputs": [],
   "source": [
    "import pandas as pd\n",
    "import seaborn as sns\n",
    "import matplotlib.pyplot as plt\n",
    "from sklearn.tree import DecisionTreeClassifier\n",
    "from sklearn import svm\n",
    "from sklearn.neural_network import MLPClassifier\n",
    "from sklearn.metrics import confusion_matrix, classification_report\n",
    "from sklearn.preprocessing import StandardScaler, LabelEncoder\n",
    "from sklearn.model_selection import train_test_split\n",
    "%matplotlib inline"
   ]
  },
  {
   "cell_type": "code",
   "execution_count": 3,
   "metadata": {},
   "outputs": [
    {
     "data": {
      "text/html": [
       "<div>\n",
       "<style scoped>\n",
       "    .dataframe tbody tr th:only-of-type {\n",
       "        vertical-align: middle;\n",
       "    }\n",
       "\n",
       "    .dataframe tbody tr th {\n",
       "        vertical-align: top;\n",
       "    }\n",
       "\n",
       "    .dataframe thead th {\n",
       "        text-align: right;\n",
       "    }\n",
       "</style>\n",
       "<table border=\"1\" class=\"dataframe\">\n",
       "  <thead>\n",
       "    <tr style=\"text-align: right;\">\n",
       "      <th></th>\n",
       "      <th>Sex</th>\n",
       "      <th>Length</th>\n",
       "      <th>Diameter</th>\n",
       "      <th>Height</th>\n",
       "      <th>Whole weight</th>\n",
       "      <th>Shucked weight</th>\n",
       "      <th>Viscera weight</th>\n",
       "      <th>Shell weight</th>\n",
       "      <th>Rings</th>\n",
       "    </tr>\n",
       "  </thead>\n",
       "  <tbody>\n",
       "    <tr>\n",
       "      <th>0</th>\n",
       "      <td>M</td>\n",
       "      <td>0.455</td>\n",
       "      <td>0.365</td>\n",
       "      <td>0.095</td>\n",
       "      <td>0.5140</td>\n",
       "      <td>0.2245</td>\n",
       "      <td>0.1010</td>\n",
       "      <td>0.150</td>\n",
       "      <td>15</td>\n",
       "    </tr>\n",
       "    <tr>\n",
       "      <th>1</th>\n",
       "      <td>M</td>\n",
       "      <td>0.350</td>\n",
       "      <td>0.265</td>\n",
       "      <td>0.090</td>\n",
       "      <td>0.2255</td>\n",
       "      <td>0.0995</td>\n",
       "      <td>0.0485</td>\n",
       "      <td>0.070</td>\n",
       "      <td>7</td>\n",
       "    </tr>\n",
       "    <tr>\n",
       "      <th>2</th>\n",
       "      <td>F</td>\n",
       "      <td>0.530</td>\n",
       "      <td>0.420</td>\n",
       "      <td>0.135</td>\n",
       "      <td>0.6770</td>\n",
       "      <td>0.2565</td>\n",
       "      <td>0.1415</td>\n",
       "      <td>0.210</td>\n",
       "      <td>9</td>\n",
       "    </tr>\n",
       "    <tr>\n",
       "      <th>3</th>\n",
       "      <td>M</td>\n",
       "      <td>0.440</td>\n",
       "      <td>0.365</td>\n",
       "      <td>0.125</td>\n",
       "      <td>0.5160</td>\n",
       "      <td>0.2155</td>\n",
       "      <td>0.1140</td>\n",
       "      <td>0.155</td>\n",
       "      <td>10</td>\n",
       "    </tr>\n",
       "    <tr>\n",
       "      <th>4</th>\n",
       "      <td>I</td>\n",
       "      <td>0.330</td>\n",
       "      <td>0.255</td>\n",
       "      <td>0.080</td>\n",
       "      <td>0.2050</td>\n",
       "      <td>0.0895</td>\n",
       "      <td>0.0395</td>\n",
       "      <td>0.055</td>\n",
       "      <td>7</td>\n",
       "    </tr>\n",
       "  </tbody>\n",
       "</table>\n",
       "</div>"
      ],
      "text/plain": [
       "  Sex  Length  Diameter  Height  Whole weight  Shucked weight  Viscera weight  \\\n",
       "0   M   0.455     0.365   0.095        0.5140          0.2245          0.1010   \n",
       "1   M   0.350     0.265   0.090        0.2255          0.0995          0.0485   \n",
       "2   F   0.530     0.420   0.135        0.6770          0.2565          0.1415   \n",
       "3   M   0.440     0.365   0.125        0.5160          0.2155          0.1140   \n",
       "4   I   0.330     0.255   0.080        0.2050          0.0895          0.0395   \n",
       "\n",
       "   Shell weight  Rings  \n",
       "0         0.150     15  \n",
       "1         0.070      7  \n",
       "2         0.210      9  \n",
       "3         0.155     10  \n",
       "4         0.055      7  "
      ]
     },
     "execution_count": 3,
     "metadata": {},
     "output_type": "execute_result"
    }
   ],
   "source": [
    "data = pd.read_csv('./data/abalone.csv',sep=',')\n",
    "data.head() # print first 5 rows"
   ]
  },
  {
   "cell_type": "code",
   "execution_count": null,
   "metadata": {},
   "outputs": [],
   "source": [
    "# data.info() # info about the data"
   ]
  },
  {
   "cell_type": "code",
   "execution_count": null,
   "metadata": {},
   "outputs": [],
   "source": [
    "# data.isnull().sum()"
   ]
  },
  {
   "cell_type": "code",
   "execution_count": 16,
   "metadata": {},
   "outputs": [
    {
     "data": {
      "text/plain": [
       "9     689\n",
       "10    634\n",
       "8     568\n",
       "11    487\n",
       "7     391\n",
       "12    267\n",
       "6     259\n",
       "13    203\n",
       "14    126\n",
       "5     115\n",
       "15    103\n",
       "16     67\n",
       "17     58\n",
       "4      57\n",
       "18     42\n",
       "19     32\n",
       "20     26\n",
       "3      15\n",
       "21     14\n",
       "23      9\n",
       "22      6\n",
       "24      2\n",
       "27      2\n",
       "1       1\n",
       "25      1\n",
       "2       1\n",
       "26      1\n",
       "29      1\n",
       "Name: Rings, dtype: int64"
      ]
     },
     "execution_count": 16,
     "metadata": {},
     "output_type": "execute_result"
    }
   ],
   "source": [
    "# For this data, predict number of rings\n",
    "\n",
    "# data['Sex'].value_counts()\n",
    "\n",
    "# string to float so can handle later\n",
    "lb = LabelEncoder()\n",
    "data['Sex'] = lb.fit_transform(data['Sex'])\n",
    "data.head()\n",
    "\n",
    "data['Rings'].value_counts(sort=True)"
   ]
  },
  {
   "cell_type": "code",
   "execution_count": 20,
   "metadata": {},
   "outputs": [],
   "source": [
    "# sns.countplot(data['Sex']) plot number of things with each value\n",
    "# separate data into response and feature\n",
    "\n",
    "X = data.drop('Rings', axis=1)\n",
    "y = data['Rings']\n",
    "\n",
    "# train and test split data\n",
    "x_train, x_test, y_train, y_test = train_test_split(X, y, test_size=.2)\n",
    "\n",
    "# scaling and optimization...models might not need it\n",
    "\n",
    "sc = StandardScaler()\n",
    "x_train = sc.fit_transform(x_train)\n",
    "x_test = sc.transform(x_test)\n",
    "# see data\n",
    "#x_train[:10]\n",
    "\n"
   ]
  },
  {
   "cell_type": "markdown",
   "metadata": {},
   "source": [
    "# Decision Tree Classifier"
   ]
  },
  {
   "cell_type": "code",
   "execution_count": 28,
   "metadata": {},
   "outputs": [
    {
     "name": "stdout",
     "output_type": "stream",
     "text": [
      "              precision    recall  f1-score   support\n",
      "\n",
      "           1       1.00      0.00      0.00         1\n",
      "           3       0.00      0.00      0.00         2\n",
      "           4       0.43      0.23      0.30        13\n",
      "           5       0.27      0.30      0.29        20\n",
      "           6       0.25      0.26      0.26        53\n",
      "           7       0.16      0.18      0.17        79\n",
      "           8       0.22      0.24      0.23       117\n",
      "           9       0.17      0.17      0.17       132\n",
      "          10       0.21      0.18      0.19       136\n",
      "          11       0.22      0.26      0.24        92\n",
      "          12       0.09      0.11      0.10        56\n",
      "          13       0.06      0.05      0.05        40\n",
      "          14       0.00      0.00      0.00        27\n",
      "          15       0.00      0.00      0.00        22\n",
      "          16       0.10      0.14      0.12         7\n",
      "          17       0.00      0.00      0.00        10\n",
      "          18       0.00      0.00      0.00        13\n",
      "          19       0.00      0.00      0.00         5\n",
      "          20       0.00      0.00      0.00         4\n",
      "          21       0.00      0.00      0.00         1\n",
      "          22       1.00      0.00      0.00         1\n",
      "          23       1.00      0.00      0.00         1\n",
      "          24       1.00      0.00      0.00         2\n",
      "          27       1.00      0.00      0.00         1\n",
      "          29       1.00      0.00      0.00         1\n",
      "\n",
      "    accuracy                           0.17       836\n",
      "   macro avg       0.33      0.08      0.08       836\n",
      "weighted avg       0.18      0.17      0.17       836\n",
      "\n"
     ]
    },
    {
     "data": {
      "text/plain": [
       "0.173444976076555"
      ]
     },
     "execution_count": 28,
     "metadata": {},
     "output_type": "execute_result"
    }
   ],
   "source": [
    "dtclf = DecisionTreeClassifier()\n",
    "# train model\n",
    "dtclf.fit(x_train, y_train)\n",
    "# test\n",
    "predict_dtclf = dtclf.predict(x_test)\n",
    "\n",
    "# how did we do? Comparing y_test and predicted values\n",
    "print(classification_report(y_test, predict_dtclf,zero_division=1))\n",
    "\n",
    "cm = accuracy_score(y_test, predict_dtclf)\n",
    "# last var will print in jupyter\n",
    "cm\n"
   ]
  },
  {
   "cell_type": "code",
   "execution_count": 10,
   "metadata": {},
   "outputs": [
    {
     "name": "stdout",
     "output_type": "stream",
     "text": [
      "[[ 2  1  0  0  0  0  0  0  0  0  0  0  0  0  0  0  0  0  0  0  0  0  0]\n",
      " [ 2  4  3  2  2  0  0  0  0  0  0  0  0  0  0  0  0  0  0  0  0  0  0]\n",
      " [ 1  8  9  8  3  3  0  0  0  0  0  0  0  0  0  0  0  0  0  0  0  0  0]\n",
      " [ 0  0  7 15 10 12  1  2  1  0  0  0  0  0  0  0  0  0  0  0  0  0  0]\n",
      " [ 0  0  2 19 16 26 10  5  3  1  0  0  2  0  0  0  0  0  0  0  0  0  0]\n",
      " [ 0  1  3  7 13 28 21 10  5  6  1  2  1  0  0  0  0  0  1  0  0  0  0]\n",
      " [ 0  0  0  2 12 23 38 25 18  6  7  3  3  3  0  0  2  0  0  0  0  0  0]\n",
      " [ 0  0  0  1  4 17 31 29 21 10  8  6  5  3  1  1  1  1  0  0  0  0  0]\n",
      " [ 0  0  0  1  3  4 22 18 22  6  5  4  3  1  3  0  1  0  0  0  0  0  0]\n",
      " [ 0  0  0  0  1  4  5  9  8  5  7  2  0  4  1  0  0  3  0  0  1  1  0]\n",
      " [ 0  0  0  1  0  3  4  2  5  4  4  3  2  2  0  0  0  0  0  1  0  0  0]\n",
      " [ 0  0  0  0  1  2  5  0  7  4  0  2  1  1  2  1  0  0  0  0  0  0  0]\n",
      " [ 0  0  0  0  0  2  2  3  2  0  4  3  2  0  1  0  1  1  0  0  0  0  0]\n",
      " [ 0  0  0  0  1  0  0  0  2  1  0  0  0  3  3  0  0  3  0  0  0  0  0]\n",
      " [ 0  0  0  0  0  0  3  2  1  0  0  1  0  1  0  0  0  0  0  0  0  0  0]\n",
      " [ 0  0  0  0  0  2  1  2  1  1  0  2  2  0  0  0  1  0  0  0  0  0  0]\n",
      " [ 0  0  0  0  0  0  0  2  1  1  1  0  0  0  0  0  0  1  1  0  0  0  0]\n",
      " [ 0  0  0  0  0  0  0  0  1  1  0  0  1  0  0  1  0  0  0  0  0  0  0]\n",
      " [ 0  0  0  0  0  0  0  0  1  0  1  0  1  0  0  0  0  0  0  0  0  0  0]\n",
      " [ 0  0  0  0  0  0  0  0  0  1  0  0  1  1  0  0  0  0  0  0  0  0  0]\n",
      " [ 0  0  0  0  0  0  0  0  0  1  1  0  0  1  0  0  0  0  0  0  0  0  1]\n",
      " [ 0  0  0  0  0  0  0  0  0  0  0  0  0  0  0  0  0  0  0  0  0  0  0]\n",
      " [ 0  0  0  0  0  0  0  0  0  0  0  0  0  0  0  0  0  0  0  0  0  0  0]]\n"
     ]
    }
   ],
   "source": [
    "# how many wrong\n",
    "print(confusion_matrix(y_test, predict_dtclf))"
   ]
  },
  {
   "cell_type": "markdown",
   "metadata": {},
   "source": [
    "# SVM"
   ]
  },
  {
   "cell_type": "code",
   "execution_count": 27,
   "metadata": {},
   "outputs": [
    {
     "name": "stdout",
     "output_type": "stream",
     "text": [
      "              precision    recall  f1-score   support\n",
      "\n",
      "           1       1.00      0.00      0.00         1\n",
      "           3       1.00      0.00      0.00         2\n",
      "           4       0.44      0.31      0.36        13\n",
      "           5       0.38      0.30      0.33        20\n",
      "           6       0.41      0.26      0.32        53\n",
      "           7       0.31      0.37      0.34        79\n",
      "           8       0.30      0.30      0.30       117\n",
      "           9       0.20      0.39      0.27       132\n",
      "          10       0.23      0.33      0.27       136\n",
      "          11       0.26      0.32      0.29        92\n",
      "          12       1.00      0.00      0.00        56\n",
      "          13       1.00      0.00      0.00        40\n",
      "          14       1.00      0.00      0.00        27\n",
      "          15       1.00      0.00      0.00        22\n",
      "          16       0.00      0.00      0.00         7\n",
      "          17       0.00      0.00      0.00        10\n",
      "          18       1.00      0.00      0.00        13\n",
      "          19       1.00      0.00      0.00         5\n",
      "          20       1.00      0.00      0.00         4\n",
      "          21       1.00      0.00      0.00         1\n",
      "          22       1.00      0.00      0.00         1\n",
      "          23       1.00      0.00      0.00         1\n",
      "          24       1.00      0.00      0.00         2\n",
      "          27       1.00      0.00      0.00         1\n",
      "          29       1.00      0.00      0.00         1\n",
      "\n",
      "    accuracy                           0.26       836\n",
      "   macro avg       0.70      0.10      0.10       836\n",
      "weighted avg       0.42      0.26      0.23       836\n",
      "\n"
     ]
    },
    {
     "data": {
      "text/plain": [
       "0.25598086124401914"
      ]
     },
     "execution_count": 27,
     "metadata": {},
     "output_type": "execute_result"
    }
   ],
   "source": [
    "clf_svm = svm.SVC()\n",
    "clf_svm.fit(x_train, y_train)\n",
    "predict_svm = clf_svm.predict(x_test)\n",
    "\n",
    "# how did we do? Comparing y_test and predicted values\n",
    "print(classification_report(y_test, predict_svm,zero_division=1))\n",
    "\n",
    "cm = accuracy_score(y_test, predict_svm)\n",
    "# last var will print in jupyter\n",
    "cm"
   ]
  },
  {
   "cell_type": "markdown",
   "metadata": {},
   "source": [
    "# Neural Network"
   ]
  },
  {
   "cell_type": "code",
   "execution_count": 25,
   "metadata": {},
   "outputs": [],
   "source": [
    "mlpc = MLPClassifier(hidden_layer_sizes=(11,11,11), max_iter=500)\n",
    "mlpc.fit(x_train, y_train)\n",
    "predict_mlpc = mlpc.predict(x_test)\n"
   ]
  },
  {
   "cell_type": "code",
   "execution_count": 26,
   "metadata": {},
   "outputs": [
    {
     "name": "stdout",
     "output_type": "stream",
     "text": [
      "              precision    recall  f1-score   support\n",
      "\n",
      "           1       1.00      0.00      0.00         1\n",
      "           3       0.00      0.00      0.00         2\n",
      "           4       0.46      0.46      0.46        13\n",
      "           5       0.45      0.25      0.32        20\n",
      "           6       0.45      0.36      0.40        53\n",
      "           7       0.33      0.34      0.34        79\n",
      "           8       0.36      0.43      0.39       117\n",
      "           9       0.25      0.34      0.29       132\n",
      "          10       0.25      0.31      0.28       136\n",
      "          11       0.21      0.30      0.25        92\n",
      "          12       0.18      0.04      0.06        56\n",
      "          13       0.16      0.10      0.12        40\n",
      "          14       0.00      0.00      0.00        27\n",
      "          15       0.00      0.00      0.00        22\n",
      "          16       0.12      0.29      0.17         7\n",
      "          17       0.33      0.10      0.15        10\n",
      "          18       1.00      0.00      0.00        13\n",
      "          19       1.00      0.00      0.00         5\n",
      "          20       1.00      0.00      0.00         4\n",
      "          21       1.00      0.00      0.00         1\n",
      "          22       1.00      0.00      0.00         1\n",
      "          23       1.00      0.00      0.00         1\n",
      "          24       1.00      0.00      0.00         2\n",
      "          27       1.00      0.00      0.00         1\n",
      "          29       1.00      0.00      0.00         1\n",
      "\n",
      "    accuracy                           0.28       836\n",
      "   macro avg       0.54      0.13      0.13       836\n",
      "weighted avg       0.29      0.28      0.26       836\n",
      "\n"
     ]
    },
    {
     "data": {
      "text/plain": [
       "0.27631578947368424"
      ]
     },
     "execution_count": 26,
     "metadata": {},
     "output_type": "execute_result"
    }
   ],
   "source": [
    "# how did we do? Comparing y_test and predicted values\n",
    "print(classification_report(y_test, predict_mlpc,zero_division=1))\n",
    "\n",
    "from sklearn.metrics import accuracy_score\n",
    "\n",
    "cm = accuracy_score(y_test, predict_mlpc)\n",
    "# last var will print in jupyter\n",
    "cm"
   ]
  },
  {
   "cell_type": "code",
   "execution_count": null,
   "metadata": {},
   "outputs": [],
   "source": []
  }
 ],
 "metadata": {
  "kernelspec": {
   "display_name": "Python 3",
   "language": "python",
   "name": "python3"
  },
  "language_info": {
   "codemirror_mode": {
    "name": "ipython",
    "version": 3
   },
   "file_extension": ".py",
   "mimetype": "text/x-python",
   "name": "python",
   "nbconvert_exporter": "python",
   "pygments_lexer": "ipython3",
   "version": "3.7.6"
  }
 },
 "nbformat": 4,
 "nbformat_minor": 4
}
